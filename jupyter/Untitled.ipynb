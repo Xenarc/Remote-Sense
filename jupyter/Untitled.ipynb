{
 "cells": [
  {
   "cell_type": "code",
   "execution_count": 26,
   "id": "324001b6",
   "metadata": {
    "scrolled": true
   },
   "outputs": [
    {
     "name": "stdout",
     "output_type": "stream",
     "text": [
      "Collecting earthengine-api\n",
      "  Downloading earthengine-api-0.1.344.tar.gz (245 kB)\n",
      "\u001b[2K     \u001b[90m━━━━━━━━━━━━━━━━━━━━━━━━━━━━━━━━━━━━━━━\u001b[0m \u001b[32m245.6/245.6 kB\u001b[0m \u001b[31m5.0 MB/s\u001b[0m eta \u001b[36m0:00:00\u001b[0ma \u001b[36m0:00:01\u001b[0m\n",
      "\u001b[?25h  Preparing metadata (setup.py) ... \u001b[?25ldone\n",
      "\u001b[?25hCollecting google-cloud-storage\n",
      "  Downloading google_cloud_storage-2.7.0-py2.py3-none-any.whl (110 kB)\n",
      "\u001b[2K     \u001b[90m━━━━━━━━━━━━━━━━━━━━━━━━━━━━━━━━━━━━━━━\u001b[0m \u001b[32m110.2/110.2 kB\u001b[0m \u001b[31m5.5 MB/s\u001b[0m eta \u001b[36m0:00:00\u001b[0m\n",
      "\u001b[?25hCollecting google-api-python-client>=1.12.1\n",
      "  Downloading google_api_python_client-2.80.0-py2.py3-none-any.whl (11.0 MB)\n",
      "\u001b[2K     \u001b[90m━━━━━━━━━━━━━━━━━━━━━━━━━━━━━━━━━━━━━━━━\u001b[0m \u001b[32m11.0/11.0 MB\u001b[0m \u001b[31m6.6 MB/s\u001b[0m eta \u001b[36m0:00:00\u001b[0m00:01\u001b[0m00:01\u001b[0m\n",
      "\u001b[?25hCollecting google-auth>=1.4.1\n",
      "  Downloading google_auth-2.16.2-py2.py3-none-any.whl (177 kB)\n",
      "\u001b[2K     \u001b[90m━━━━━━━━━━━━━━━━━━━━━━━━━━━━━━━━━━━━━━━\u001b[0m \u001b[32m177.2/177.2 kB\u001b[0m \u001b[31m5.9 MB/s\u001b[0m eta \u001b[36m0:00:00\u001b[0m\n",
      "\u001b[?25hCollecting google-auth-httplib2>=0.0.3\n",
      "  Downloading google_auth_httplib2-0.1.0-py2.py3-none-any.whl (9.3 kB)\n",
      "Collecting httplib2<1dev,>=0.9.2\n",
      "  Downloading httplib2-0.21.0-py3-none-any.whl (96 kB)\n",
      "\u001b[2K     \u001b[90m━━━━━━━━━━━━━━━━━━━━━━━━━━━━━━━━━━━━━━━━\u001b[0m \u001b[32m96.8/96.8 kB\u001b[0m \u001b[31m5.9 MB/s\u001b[0m eta \u001b[36m0:00:00\u001b[0m\n",
      "\u001b[?25hRequirement already satisfied: requests in /opt/conda/lib/python3.10/site-packages (from earthengine-api) (2.28.2)\n",
      "Collecting google-api-core!=2.0.*,!=2.1.*,!=2.2.*,!=2.3.0,<3.0.0dev,>=1.31.5\n",
      "  Downloading google_api_core-2.11.0-py3-none-any.whl (120 kB)\n",
      "\u001b[2K     \u001b[90m━━━━━━━━━━━━━━━━━━━━━━━━━━━━━━━━━━━━━━━\u001b[0m \u001b[32m120.3/120.3 kB\u001b[0m \u001b[31m5.7 MB/s\u001b[0m eta \u001b[36m0:00:00\u001b[0m\n",
      "\u001b[?25hCollecting uritemplate<5,>=3.0.1\n",
      "  Downloading uritemplate-4.1.1-py2.py3-none-any.whl (10 kB)\n",
      "Collecting cachetools<6.0,>=2.0.0\n",
      "  Downloading cachetools-5.3.0-py3-none-any.whl (9.3 kB)\n",
      "Collecting rsa<5,>=3.1.4\n",
      "  Downloading rsa-4.9-py3-none-any.whl (34 kB)\n",
      "Requirement already satisfied: six>=1.9.0 in /opt/conda/lib/python3.10/site-packages (from google-auth>=1.4.1->earthengine-api) (1.16.0)\n",
      "Collecting pyasn1-modules>=0.2.1\n",
      "  Downloading pyasn1_modules-0.2.8-py2.py3-none-any.whl (155 kB)\n",
      "\u001b[2K     \u001b[90m━━━━━━━━━━━━━━━━━━━━━━━━━━━━━━━━━━━━━━━\u001b[0m \u001b[32m155.3/155.3 kB\u001b[0m \u001b[31m6.1 MB/s\u001b[0m eta \u001b[36m0:00:00\u001b[0m\n",
      "\u001b[?25hRequirement already satisfied: pyparsing!=3.0.0,!=3.0.1,!=3.0.2,!=3.0.3,<4,>=2.4.2 in /opt/conda/lib/python3.10/site-packages (from httplib2<1dev,>=0.9.2->earthengine-api) (3.0.9)\n",
      "Collecting google-resumable-media>=2.3.2\n",
      "  Downloading google_resumable_media-2.4.1-py2.py3-none-any.whl (77 kB)\n",
      "\u001b[2K     \u001b[90m━━━━━━━━━━━━━━━━━━━━━━━━━━━━━━━━━━━━━━━━\u001b[0m \u001b[32m77.7/77.7 kB\u001b[0m \u001b[31m6.3 MB/s\u001b[0m eta \u001b[36m0:00:00\u001b[0m\n",
      "\u001b[?25hCollecting google-cloud-core<3.0dev,>=2.3.0\n",
      "  Downloading google_cloud_core-2.3.2-py2.py3-none-any.whl (29 kB)\n",
      "Requirement already satisfied: charset-normalizer<4,>=2 in /opt/conda/lib/python3.10/site-packages (from requests->earthengine-api) (2.1.1)\n",
      "Requirement already satisfied: certifi>=2017.4.17 in /opt/conda/lib/python3.10/site-packages (from requests->earthengine-api) (2022.12.7)\n",
      "Requirement already satisfied: urllib3<1.27,>=1.21.1 in /opt/conda/lib/python3.10/site-packages (from requests->earthengine-api) (1.26.14)\n",
      "Requirement already satisfied: idna<4,>=2.5 in /opt/conda/lib/python3.10/site-packages (from requests->earthengine-api) (3.4)\n",
      "Collecting protobuf!=3.20.0,!=3.20.1,!=4.21.0,!=4.21.1,!=4.21.2,!=4.21.3,!=4.21.4,!=4.21.5,<5.0.0dev,>=3.19.5\n",
      "  Downloading protobuf-4.22.1-cp37-abi3-manylinux2014_x86_64.whl (302 kB)\n",
      "\u001b[2K     \u001b[90m━━━━━━━━━━━━━━━━━━━━━━━━━━━━━━━━━━━━━━━\u001b[0m \u001b[32m302.4/302.4 kB\u001b[0m \u001b[31m6.5 MB/s\u001b[0m eta \u001b[36m0:00:00\u001b[0ma \u001b[36m0:00:01\u001b[0m\n",
      "\u001b[?25hCollecting googleapis-common-protos<2.0dev,>=1.56.2\n",
      "  Downloading googleapis_common_protos-1.58.0-py2.py3-none-any.whl (223 kB)\n",
      "\u001b[2K     \u001b[90m━━━━━━━━━━━━━━━━━━━━━━━━━━━━━━━━━━━━━━━\u001b[0m \u001b[32m223.0/223.0 kB\u001b[0m \u001b[31m5.9 MB/s\u001b[0m eta \u001b[36m0:00:00\u001b[0ma \u001b[36m0:00:01\u001b[0m\n",
      "\u001b[?25hCollecting google-crc32c<2.0dev,>=1.0\n",
      "  Downloading google_crc32c-1.5.0-cp310-cp310-manylinux_2_17_x86_64.manylinux2014_x86_64.whl (32 kB)\n",
      "Collecting pyasn1<0.5.0,>=0.4.6\n",
      "  Downloading pyasn1-0.4.8-py2.py3-none-any.whl (77 kB)\n",
      "\u001b[2K     \u001b[90m━━━━━━━━━━━━━━━━━━━━━━━━━━━━━━━━━━━━━━━━\u001b[0m \u001b[32m77.1/77.1 kB\u001b[0m \u001b[31m6.4 MB/s\u001b[0m eta \u001b[36m0:00:00\u001b[0m\n",
      "\u001b[?25hBuilding wheels for collected packages: earthengine-api\n",
      "  Building wheel for earthengine-api (setup.py) ... \u001b[?25ldone\n",
      "\u001b[?25h  Created wheel for earthengine-api: filename=earthengine_api-0.1.344-py3-none-any.whl size=275060 sha256=3b9d8ba125bd370b0550dd81473c5851ff952ce8d831d155c3b0f6f3d0f2865c\n",
      "  Stored in directory: /home/jovyan/.cache/pip/wheels/e9/e8/b8/ef91e5d39ae415ac62aa1bf633c5650a3efdb591ebe77abf60\n",
      "Successfully built earthengine-api\n",
      "Installing collected packages: pyasn1, uritemplate, rsa, pyasn1-modules, protobuf, httplib2, google-crc32c, cachetools, googleapis-common-protos, google-resumable-media, google-auth, google-auth-httplib2, google-api-core, google-cloud-core, google-api-python-client, google-cloud-storage, earthengine-api\n",
      "Successfully installed cachetools-5.3.0 earthengine-api-0.1.344 google-api-core-2.11.0 google-api-python-client-2.80.0 google-auth-2.16.2 google-auth-httplib2-0.1.0 google-cloud-core-2.3.2 google-cloud-storage-2.7.0 google-crc32c-1.5.0 google-resumable-media-2.4.1 googleapis-common-protos-1.58.0 httplib2-0.21.0 protobuf-4.22.1 pyasn1-0.4.8 pyasn1-modules-0.2.8 rsa-4.9 uritemplate-4.1.1\n"
     ]
    }
   ],
   "source": [
    "!pip install earthengine-api"
   ]
  },
  {
   "cell_type": "code",
   "execution_count": 29,
   "id": "f0da4988",
   "metadata": {
    "scrolled": true
   },
   "outputs": [
    {
     "data": {
      "text/html": [
       "<p>To authorize access needed by Earth Engine, open the following\n",
       "        URL in a web browser and follow the instructions:</p>\n",
       "        <p><a href=https://code.earthengine.google.com/client-auth?scopes=https%3A//www.googleapis.com/auth/earthengine%20https%3A//www.googleapis.com/auth/devstorage.full_control&request_id=aDv_wDIB99OaYw5gu-6rVjGI03Fk8enANXBgZaLyhKU&tc=G8lbw9nzCCoyTS9MhrxyNSCo--OgwDrrRgrQMw4YfS4&cc=MOPlvWDEP2wliHp5o0kDhuHPEdacHOhZCOx0yU2LSMs>https://code.earthengine.google.com/client-auth?scopes=https%3A//www.googleapis.com/auth/earthengine%20https%3A//www.googleapis.com/auth/devstorage.full_control&request_id=aDv_wDIB99OaYw5gu-6rVjGI03Fk8enANXBgZaLyhKU&tc=G8lbw9nzCCoyTS9MhrxyNSCo--OgwDrrRgrQMw4YfS4&cc=MOPlvWDEP2wliHp5o0kDhuHPEdacHOhZCOx0yU2LSMs</a></p>\n",
       "        <p>The authorization workflow will generate a code, which you should paste in the box below.</p>\n",
       "        "
      ],
      "text/plain": [
       "<IPython.core.display.HTML object>"
      ]
     },
     "metadata": {},
     "output_type": "display_data"
    },
    {
     "name": "stdout",
     "output_type": "stream",
     "text": [
      "Enter verification code: 4/1AWtgzh5Mq3E-6O9e0oyTFP7GREHWkrcsRujI4I2azvU93Jg5CJjzdQOe9kk\n",
      "\n",
      "Successfully saved authorization token.\n"
     ]
    }
   ],
   "source": [
    "\n",
    "ee.Authenticate()"
   ]
  },
  {
   "cell_type": "code",
   "execution_count": 77,
   "id": "3a98ca46",
   "metadata": {},
   "outputs": [
    {
     "name": "stdout",
     "output_type": "stream",
     "text": [
      "Collecting geopandas\n",
      "  Downloading geopandas-0.12.2-py3-none-any.whl (1.1 MB)\n",
      "\u001b[2K     \u001b[90m━━━━━━━━━━━━━━━━━━━━━━━━━━━━━━━━━━━━━━━━\u001b[0m \u001b[32m1.1/1.1 MB\u001b[0m \u001b[31m6.0 MB/s\u001b[0m eta \u001b[36m0:00:00\u001b[0m00:01\u001b[0m00:01\u001b[0m\n",
      "\u001b[?25hCollecting shapely>=1.7\n",
      "  Downloading shapely-2.0.1-cp310-cp310-manylinux_2_17_x86_64.manylinux2014_x86_64.whl (2.3 MB)\n",
      "\u001b[2K     \u001b[90m━━━━━━━━━━━━━━━━━━━━━━━━━━━━━━━━━━━━━━━━\u001b[0m \u001b[32m2.3/2.3 MB\u001b[0m \u001b[31m6.5 MB/s\u001b[0m eta \u001b[36m0:00:00\u001b[0m00:01\u001b[0m00:01\u001b[0m\n",
      "\u001b[?25hRequirement already satisfied: pandas>=1.0.0 in /opt/conda/lib/python3.10/site-packages (from geopandas) (1.5.3)\n",
      "Requirement already satisfied: packaging in /opt/conda/lib/python3.10/site-packages (from geopandas) (23.0)\n",
      "Collecting fiona>=1.8\n",
      "  Downloading Fiona-1.9.1-cp310-cp310-manylinux_2_17_x86_64.manylinux2014_x86_64.whl (16.0 MB)\n",
      "\u001b[2K     \u001b[90m━━━━━━━━━━━━━━━━━━━━━━━━━━━━━━━━━━━━━━━━\u001b[0m \u001b[32m16.0/16.0 MB\u001b[0m \u001b[31m2.9 MB/s\u001b[0m eta \u001b[36m0:00:00\u001b[0m00:01\u001b[0m00:01\u001b[0m\n",
      "\u001b[?25hCollecting pyproj>=2.6.1.post1\n",
      "  Downloading pyproj-3.4.1-cp310-cp310-manylinux_2_17_x86_64.manylinux2014_x86_64.whl (7.7 MB)\n",
      "\u001b[2K     \u001b[90m━━━━━━━━━━━━━━━━━━━━━━━━━━━━━━━━━━━━━━━━\u001b[0m \u001b[32m7.7/7.7 MB\u001b[0m \u001b[31m2.1 MB/s\u001b[0m eta \u001b[36m0:00:00\u001b[0m00:01\u001b[0m00:01\u001b[0m0m\n",
      "\u001b[?25hCollecting click-plugins>=1.0\n",
      "  Downloading click_plugins-1.1.1-py2.py3-none-any.whl (7.5 kB)\n",
      "Collecting cligj>=0.5\n",
      "  Downloading cligj-0.7.2-py3-none-any.whl (7.1 kB)\n",
      "Requirement already satisfied: attrs>=19.2.0 in /opt/conda/lib/python3.10/site-packages (from fiona>=1.8->geopandas) (22.2.0)\n",
      "Requirement already satisfied: setuptools in /opt/conda/lib/python3.10/site-packages (from fiona>=1.8->geopandas) (67.5.1)\n",
      "Requirement already satisfied: certifi in /opt/conda/lib/python3.10/site-packages (from fiona>=1.8->geopandas) (2022.12.7)\n",
      "Collecting munch>=2.3.2\n",
      "  Downloading munch-2.5.0-py2.py3-none-any.whl (10 kB)\n",
      "Collecting click~=8.0\n",
      "  Downloading click-8.1.3-py3-none-any.whl (96 kB)\n",
      "\u001b[2K     \u001b[90m━━━━━━━━━━━━━━━━━━━━━━━━━━━━━━━━━━━━━━━━\u001b[0m \u001b[32m96.6/96.6 kB\u001b[0m \u001b[31m6.9 MB/s\u001b[0m eta \u001b[36m0:00:00\u001b[0m\n",
      "\u001b[?25hRequirement already satisfied: python-dateutil>=2.8.1 in /opt/conda/lib/python3.10/site-packages (from pandas>=1.0.0->geopandas) (2.8.2)\n",
      "Requirement already satisfied: pytz>=2020.1 in /opt/conda/lib/python3.10/site-packages (from pandas>=1.0.0->geopandas) (2022.7.1)\n",
      "Requirement already satisfied: numpy>=1.21.0 in /opt/conda/lib/python3.10/site-packages (from pandas>=1.0.0->geopandas) (1.24.2)\n",
      "Requirement already satisfied: six in /opt/conda/lib/python3.10/site-packages (from munch>=2.3.2->fiona>=1.8->geopandas) (1.16.0)\n",
      "Installing collected packages: shapely, pyproj, munch, click, cligj, click-plugins, fiona, geopandas\n",
      "Successfully installed click-8.1.3 click-plugins-1.1.1 cligj-0.7.2 fiona-1.9.1 geopandas-0.12.2 munch-2.5.0 pyproj-3.4.1 shapely-2.0.1\n"
     ]
    }
   ],
   "source": [
    "!pip install geopandas"
   ]
  },
  {
   "cell_type": "code",
   "execution_count": 108,
   "id": "1569b321",
   "metadata": {},
   "outputs": [],
   "source": [
    "import ee\n",
    "import geopandas\n",
    "ee.Initialize()\n"
   ]
  },
  {
   "cell_type": "markdown",
   "id": "48aab07b",
   "metadata": {},
   "source": [
    "# Get location data"
   ]
  },
  {
   "cell_type": "code",
   "execution_count": 109,
   "id": "6c569af6",
   "metadata": {},
   "outputs": [],
   "source": [
    "import csv\n",
    "import pandas as pd"
   ]
  },
  {
   "cell_type": "code",
   "execution_count": 110,
   "id": "8d39f3a1",
   "metadata": {
    "scrolled": true
   },
   "outputs": [],
   "source": [
    "file = open('locations.csv')"
   ]
  },
  {
   "cell_type": "code",
   "execution_count": 111,
   "id": "0b2a2005",
   "metadata": {},
   "outputs": [],
   "source": [
    "csvreader = csv.reader(file)"
   ]
  },
  {
   "cell_type": "code",
   "execution_count": 112,
   "id": "ef2462e6",
   "metadata": {},
   "outputs": [],
   "source": [
    "header = []\n",
    "header = next(csvreader)\n",
    "# header"
   ]
  },
  {
   "cell_type": "code",
   "execution_count": 113,
   "id": "e16cd2a8",
   "metadata": {
    "scrolled": false
   },
   "outputs": [],
   "source": [
    "rows = []\n",
    "for row in csvreader:\n",
    "        rows.append(row)\n",
    "locations = pd.DataFrame(rows)"
   ]
  },
  {
   "cell_type": "code",
   "execution_count": 114,
   "id": "2a5e3cde",
   "metadata": {
    "scrolled": false
   },
   "outputs": [
    {
     "data": {
      "text/html": [
       "<div>\n",
       "<style scoped>\n",
       "    .dataframe tbody tr th:only-of-type {\n",
       "        vertical-align: middle;\n",
       "    }\n",
       "\n",
       "    .dataframe tbody tr th {\n",
       "        vertical-align: top;\n",
       "    }\n",
       "\n",
       "    .dataframe thead th {\n",
       "        text-align: right;\n",
       "    }\n",
       "</style>\n",
       "<table border=\"1\" class=\"dataframe\">\n",
       "  <thead>\n",
       "    <tr style=\"text-align: right;\">\n",
       "      <th></th>\n",
       "      <th>0</th>\n",
       "      <th>1</th>\n",
       "      <th>2</th>\n",
       "    </tr>\n",
       "  </thead>\n",
       "  <tbody>\n",
       "    <tr>\n",
       "      <th>0</th>\n",
       "      <td>SR 1A</td>\n",
       "      <td>144.6763535</td>\n",
       "      <td>-38.20253544</td>\n",
       "    </tr>\n",
       "    <tr>\n",
       "      <th>1</th>\n",
       "      <td>SR 2A</td>\n",
       "      <td>144.6764101</td>\n",
       "      <td>-38.20254235</td>\n",
       "    </tr>\n",
       "    <tr>\n",
       "      <th>2</th>\n",
       "      <td>SR 1B</td>\n",
       "      <td>144.6764104</td>\n",
       "      <td>-38.20254251</td>\n",
       "    </tr>\n",
       "    <tr>\n",
       "      <th>3</th>\n",
       "      <td>SR 2A</td>\n",
       "      <td>144.6765567</td>\n",
       "      <td>-38.20256643</td>\n",
       "    </tr>\n",
       "    <tr>\n",
       "      <th>4</th>\n",
       "      <td>SR 2B</td>\n",
       "      <td>144.6766112</td>\n",
       "      <td>-38.2025682</td>\n",
       "    </tr>\n",
       "  </tbody>\n",
       "</table>\n",
       "</div>"
      ],
      "text/plain": [
       "       0            1             2\n",
       "0  SR 1A  144.6763535  -38.20253544\n",
       "1  SR 2A  144.6764101  -38.20254235\n",
       "2  SR 1B  144.6764104  -38.20254251\n",
       "3  SR 2A  144.6765567  -38.20256643\n",
       "4  SR 2B  144.6766112   -38.2025682"
      ]
     },
     "execution_count": 114,
     "metadata": {},
     "output_type": "execute_result"
    }
   ],
   "source": [
    "locations.head(5)"
   ]
  },
  {
   "cell_type": "code",
   "execution_count": 115,
   "id": "c7d5c95b",
   "metadata": {},
   "outputs": [],
   "source": [
    "geoJSON_dict = {\n",
    "    \"ID\": list(locations[0]),\n",
    "    \"geometry\": list([f'POINT ({loc[0]} {loc[1]})' for loc in zip(locations[1], locations[2])])\n",
    "#     \"geometry\": list([ee.Geometry.Point(float(loc[0]), float(loc[1])) for loc in zip(locations[1], locations[2])])\n",
    "}\n",
    "geoJSON_df = pd.DataFrame(geoJSON_dict)"
   ]
  },
  {
   "cell_type": "code",
   "execution_count": 116,
   "id": "df72dd9a",
   "metadata": {
    "scrolled": true
   },
   "outputs": [
    {
     "data": {
      "text/html": [
       "<div>\n",
       "<style scoped>\n",
       "    .dataframe tbody tr th:only-of-type {\n",
       "        vertical-align: middle;\n",
       "    }\n",
       "\n",
       "    .dataframe tbody tr th {\n",
       "        vertical-align: top;\n",
       "    }\n",
       "\n",
       "    .dataframe thead th {\n",
       "        text-align: right;\n",
       "    }\n",
       "</style>\n",
       "<table border=\"1\" class=\"dataframe\">\n",
       "  <thead>\n",
       "    <tr style=\"text-align: right;\">\n",
       "      <th></th>\n",
       "      <th>ID</th>\n",
       "      <th>geometry</th>\n",
       "    </tr>\n",
       "  </thead>\n",
       "  <tbody>\n",
       "    <tr>\n",
       "      <th>0</th>\n",
       "      <td>SR 1A</td>\n",
       "      <td>POINT (144.6763535 -38.20253544)</td>\n",
       "    </tr>\n",
       "    <tr>\n",
       "      <th>1</th>\n",
       "      <td>SR 2A</td>\n",
       "      <td>POINT (144.6764101 -38.20254235)</td>\n",
       "    </tr>\n",
       "    <tr>\n",
       "      <th>2</th>\n",
       "      <td>SR 1B</td>\n",
       "      <td>POINT (144.6764104 -38.20254251)</td>\n",
       "    </tr>\n",
       "    <tr>\n",
       "      <th>3</th>\n",
       "      <td>SR 2A</td>\n",
       "      <td>POINT (144.6765567 -38.20256643)</td>\n",
       "    </tr>\n",
       "    <tr>\n",
       "      <th>4</th>\n",
       "      <td>SR 2B</td>\n",
       "      <td>POINT (144.6766112 -38.2025682)</td>\n",
       "    </tr>\n",
       "  </tbody>\n",
       "</table>\n",
       "</div>"
      ],
      "text/plain": [
       "      ID                          geometry\n",
       "0  SR 1A  POINT (144.6763535 -38.20253544)\n",
       "1  SR 2A  POINT (144.6764101 -38.20254235)\n",
       "2  SR 1B  POINT (144.6764104 -38.20254251)\n",
       "3  SR 2A  POINT (144.6765567 -38.20256643)\n",
       "4  SR 2B   POINT (144.6766112 -38.2025682)"
      ]
     },
     "execution_count": 116,
     "metadata": {},
     "output_type": "execute_result"
    }
   ],
   "source": [
    "geoJSON_df.head(5)"
   ]
  },
  {
   "cell_type": "code",
   "execution_count": 117,
   "id": "0076dd3c",
   "metadata": {},
   "outputs": [],
   "source": [
    "# gdf = geopandas.GeoDataFrame(geoJSON_df, crs=\"EPSG:4326\")\n",
    "gdf = geopandas.GeoDataFrame(\n",
    "    geoJSON_df.loc[:, [c for c in geoJSON_df.columns if c != \"geometry\"]],\n",
    "    geometry=geopandas.GeoSeries.from_wkt(geoJSON_df[\"geometry\"]),\n",
    "    crs=\"epsg:3005\",\n",
    ")\n",
    "geo_json = gdf.to_json()\n",
    "\n",
    "locations_fc = ee.FeatureCollection(json.loads(geo_json))"
   ]
  },
  {
   "cell_type": "markdown",
   "id": "2e232f86",
   "metadata": {},
   "source": [
    "# Generate data"
   ]
  },
  {
   "cell_type": "code",
   "execution_count": 129,
   "id": "948d1cfa",
   "metadata": {},
   "outputs": [],
   "source": [
    "radius = 15\n",
    "\n",
    "def maskS2clouds(image):\n",
    "  qa = image.select('QA60')\n",
    "\n",
    "  cloudBitMask = 1 << 10\n",
    "  cirrusBitMask = 1 << 11\n",
    "\n",
    "  mask = qa.bitwiseAnd(cloudBitMask).eq(0) \\\n",
    "      .And(qa.bitwiseAnd(cirrusBitMask).eq(0))\n",
    "\n",
    "  return image.updateMask(mask).divide(10000)\n",
    "\n",
    "def getFeature(l):\n",
    "    lat = l.properties[Object.keys(l.properties)[0]]\n",
    "    lng = l.properties[Object.keys(l.properties)[2]]\n",
    "    point = ee.Geometry.Point([lng, lat]).buffer(radius)\n",
    "    return ee.Feature(point)\n",
    "\n",
    "def assignFeatures(ls):\n",
    "#     features = ee.FeatureCollection(ls.map(getFeature))\n",
    "    features = ls\n",
    "    \n",
    "    L82014pre = ee.ImageCollection('COPERNICUS/S2') \\\n",
    "                  .filterDate('2022-06-01', '2022-06-30') \\\n",
    "                  .filter(ee.Filter.lt('CLOUDY_PIXEL_PERCENTAGE',18)) \\\n",
    "                  .select(\".*\")\n",
    "\n",
    "    # Empty Collection to fill\n",
    "    ft = ee.FeatureCollection(ee.List([]))\n",
    "\n",
    "    def fill(img, f):\n",
    "        # gets the values for the points in the current img\n",
    "        bands = img.reduceRegion(ee.Reducer.mean(), f.geometry(), 10)\n",
    "\n",
    "        feature = ee.FeatureCollection(f)\n",
    "\n",
    "        bands = ee.Dictionary(bands)\n",
    "\n",
    "        feature = bands.map(lambda k, v: v)\n",
    "\n",
    "        return f.setMulti(feature)\n",
    "\n",
    "    # Iterates over the ImageCollection\n",
    "    newft = features.map(lambda f: fill(L82014pre.mean(), f))\n",
    "\n",
    "#     print(newft)\n",
    "\n",
    "    # Export\n",
    "    task = ee.batch.Export.image.toDrive(newft,\n",
    "        \"exportfromgee\",\n",
    "        \"remotesense\",\n",
    "        \"sentinal\"\n",
    "    )\n",
    "    task.start()\n"
   ]
  },
  {
   "cell_type": "code",
   "execution_count": 130,
   "id": "3710b2d6",
   "metadata": {
    "scrolled": true
   },
   "outputs": [
    {
     "ename": "AttributeError",
     "evalue": "'FeatureCollection' object has no attribute 'prepare_for_export'",
     "output_type": "error",
     "traceback": [
      "\u001b[0;31m---------------------------------------------------------------------------\u001b[0m",
      "\u001b[0;31mAttributeError\u001b[0m                            Traceback (most recent call last)",
      "Cell \u001b[0;32mIn[130], line 2\u001b[0m\n\u001b[1;32m      1\u001b[0m \u001b[38;5;66;03m# locations.toList(309).evaluate(function(ls) {\u001b[39;00m\n\u001b[0;32m----> 2\u001b[0m \u001b[43massignFeatures\u001b[49m\u001b[43m(\u001b[49m\u001b[43mlocations_fc\u001b[49m\u001b[43m)\u001b[49m\n",
      "Cell \u001b[0;32mIn[129], line 50\u001b[0m, in \u001b[0;36massignFeatures\u001b[0;34m(ls)\u001b[0m\n\u001b[1;32m     45\u001b[0m     newft \u001b[38;5;241m=\u001b[39m features\u001b[38;5;241m.\u001b[39mmap(\u001b[38;5;28;01mlambda\u001b[39;00m f: fill(L82014pre\u001b[38;5;241m.\u001b[39mmean(), f))\n\u001b[1;32m     47\u001b[0m \u001b[38;5;66;03m#     print(newft)\u001b[39;00m\n\u001b[1;32m     48\u001b[0m \n\u001b[1;32m     49\u001b[0m     \u001b[38;5;66;03m# Export\u001b[39;00m\n\u001b[0;32m---> 50\u001b[0m     task \u001b[38;5;241m=\u001b[39m \u001b[43mee\u001b[49m\u001b[38;5;241;43m.\u001b[39;49m\u001b[43mbatch\u001b[49m\u001b[38;5;241;43m.\u001b[39;49m\u001b[43mExport\u001b[49m\u001b[38;5;241;43m.\u001b[39;49m\u001b[43mimage\u001b[49m\u001b[38;5;241;43m.\u001b[39;49m\u001b[43mtoDrive\u001b[49m\u001b[43m(\u001b[49m\u001b[43mnewft\u001b[49m\u001b[43m,\u001b[49m\n\u001b[1;32m     51\u001b[0m \u001b[43m        \u001b[49m\u001b[38;5;124;43m\"\u001b[39;49m\u001b[38;5;124;43mexportfromgee\u001b[39;49m\u001b[38;5;124;43m\"\u001b[39;49m\u001b[43m,\u001b[49m\n\u001b[1;32m     52\u001b[0m \u001b[43m        \u001b[49m\u001b[38;5;124;43m\"\u001b[39;49m\u001b[38;5;124;43mremotesense\u001b[39;49m\u001b[38;5;124;43m\"\u001b[39;49m\u001b[43m,\u001b[49m\n\u001b[1;32m     53\u001b[0m \u001b[43m        \u001b[49m\u001b[38;5;124;43m\"\u001b[39;49m\u001b[38;5;124;43msentinal\u001b[39;49m\u001b[38;5;124;43m\"\u001b[39;49m\n\u001b[1;32m     54\u001b[0m \u001b[43m    \u001b[49m\u001b[43m)\u001b[49m\n\u001b[1;32m     55\u001b[0m     task\u001b[38;5;241m.\u001b[39mstart()\n",
      "File \u001b[0;32m/opt/conda/lib/python3.10/site-packages/ee/batch.py:435\u001b[0m, in \u001b[0;36mExport.image.toDrive\u001b[0;34m(image, description, folder, fileNamePrefix, dimensions, region, scale, crs, crsTransform, maxPixels, shardSize, fileDimensions, skipEmptyTiles, fileFormat, formatOptions, **kwargs)\u001b[0m\n\u001b[1;32m    385\u001b[0m \u001b[38;5;250m\u001b[39m\u001b[38;5;124;03m\"\"\"Creates a task to export an EE Image to Drive.\u001b[39;00m\n\u001b[1;32m    386\u001b[0m \n\u001b[1;32m    387\u001b[0m \u001b[38;5;124;03mArgs:\u001b[39;00m\n\u001b[0;32m   (...)\u001b[0m\n\u001b[1;32m    432\u001b[0m \u001b[38;5;124;03m  An unstarted Task that exports the image to Drive.\u001b[39;00m\n\u001b[1;32m    433\u001b[0m \u001b[38;5;124;03m\"\"\"\u001b[39;00m\n\u001b[1;32m    434\u001b[0m config \u001b[38;5;241m=\u001b[39m _capture_parameters(\u001b[38;5;28mlocals\u001b[39m(), [\u001b[38;5;124m'\u001b[39m\u001b[38;5;124mimage\u001b[39m\u001b[38;5;124m'\u001b[39m])\n\u001b[0;32m--> 435\u001b[0m config \u001b[38;5;241m=\u001b[39m \u001b[43m_prepare_image_export_config\u001b[49m\u001b[43m(\u001b[49m\u001b[43mimage\u001b[49m\u001b[43m,\u001b[49m\u001b[43m \u001b[49m\u001b[43mconfig\u001b[49m\u001b[43m,\u001b[49m\n\u001b[1;32m    436\u001b[0m \u001b[43m                                      \u001b[49m\u001b[43mTask\u001b[49m\u001b[38;5;241;43m.\u001b[39;49m\u001b[43mExportDestination\u001b[49m\u001b[38;5;241;43m.\u001b[39;49m\u001b[43mDRIVE\u001b[49m\u001b[43m)\u001b[49m\n\u001b[1;32m    437\u001b[0m \u001b[38;5;28;01mreturn\u001b[39;00m _create_export_task(config, Task\u001b[38;5;241m.\u001b[39mType\u001b[38;5;241m.\u001b[39mEXPORT_IMAGE)\n",
      "File \u001b[0;32m/opt/conda/lib/python3.10/site-packages/ee/batch.py:989\u001b[0m, in \u001b[0;36m_prepare_image_export_config\u001b[0;34m(image, config, export_destination)\u001b[0m\n\u001b[1;32m    985\u001b[0m   config[\u001b[38;5;124m'\u001b[39m\u001b[38;5;124mfileFormat\u001b[39m\u001b[38;5;124m'\u001b[39m] \u001b[38;5;241m=\u001b[39m \u001b[38;5;124m'\u001b[39m\u001b[38;5;124mGeoTIFF\u001b[39m\u001b[38;5;124m'\u001b[39m\n\u001b[1;32m    987\u001b[0m _canonicalize_parameters(config, export_destination)\n\u001b[0;32m--> 989\u001b[0m image, config \u001b[38;5;241m=\u001b[39m \u001b[43mimage\u001b[49m\u001b[38;5;241;43m.\u001b[39;49m\u001b[43mprepare_for_export\u001b[49m(config)\n\u001b[1;32m    990\u001b[0m \u001b[38;5;66;03m# Build an ExportImageRequest. Delete values from \"config\" as we go so we\u001b[39;00m\n\u001b[1;32m    991\u001b[0m \u001b[38;5;66;03m# can check at the end for any leftovers. Any computed objects will be\u001b[39;00m\n\u001b[1;32m    992\u001b[0m \u001b[38;5;66;03m# serialised in data.py before the request is sent.\u001b[39;00m\n\u001b[1;32m    993\u001b[0m request \u001b[38;5;241m=\u001b[39m {}\n",
      "\u001b[0;31mAttributeError\u001b[0m: 'FeatureCollection' object has no attribute 'prepare_for_export'"
     ]
    }
   ],
   "source": [
    "# locations.toList(309).evaluate(function(ls) {\n",
    "assignFeatures(locations_fc)"
   ]
  },
  {
   "cell_type": "code",
   "execution_count": null,
   "id": "2625998e",
   "metadata": {},
   "outputs": [],
   "source": []
  }
 ],
 "metadata": {
  "kernelspec": {
   "display_name": "Python 3 (ipykernel)",
   "language": "python",
   "name": "python3"
  },
  "language_info": {
   "codemirror_mode": {
    "name": "ipython",
    "version": 3
   },
   "file_extension": ".py",
   "mimetype": "text/x-python",
   "name": "python",
   "nbconvert_exporter": "python",
   "pygments_lexer": "ipython3",
   "version": "3.10.9"
  }
 },
 "nbformat": 4,
 "nbformat_minor": 5
}
